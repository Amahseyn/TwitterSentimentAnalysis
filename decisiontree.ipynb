{
  "nbformat": 4,
  "nbformat_minor": 0,
  "metadata": {
    "colab": {
      "provenance": []
    },
    "kernelspec": {
      "name": "python3",
      "display_name": "Python 3"
    },
    "language_info": {
      "name": "python"
    }
  },
  "cells": [
    {
      "cell_type": "code",
      "source": [
        "!rm -rf /content/TwitterSentimentAnalysis"
      ],
      "metadata": {
        "id": "YMOKn6xK6IEx"
      },
      "execution_count": 1,
      "outputs": []
    },
    {
      "cell_type": "code",
      "execution_count": 2,
      "metadata": {
        "colab": {
          "base_uri": "https://localhost:8080/"
        },
        "id": "dN1zoFPzrAYq",
        "outputId": "ee1c069e-7aab-410f-93c8-e6792162077c"
      },
      "outputs": [
        {
          "output_type": "stream",
          "name": "stdout",
          "text": [
            "Cloning into 'TwitterSentimentAnalysis'...\n",
            "remote: Enumerating objects: 19, done.\u001b[K\n",
            "remote: Counting objects:   5% (1/19)\u001b[K\rremote: Counting objects:  10% (2/19)\u001b[K\rremote: Counting objects:  15% (3/19)\u001b[K\rremote: Counting objects:  21% (4/19)\u001b[K\rremote: Counting objects:  26% (5/19)\u001b[K\rremote: Counting objects:  31% (6/19)\u001b[K\rremote: Counting objects:  36% (7/19)\u001b[K\rremote: Counting objects:  42% (8/19)\u001b[K\rremote: Counting objects:  47% (9/19)\u001b[K\rremote: Counting objects:  52% (10/19)\u001b[K\rremote: Counting objects:  57% (11/19)\u001b[K\rremote: Counting objects:  63% (12/19)\u001b[K\rremote: Counting objects:  68% (13/19)\u001b[K\rremote: Counting objects:  73% (14/19)\u001b[K\rremote: Counting objects:  78% (15/19)\u001b[K\rremote: Counting objects:  84% (16/19)\u001b[K\rremote: Counting objects:  89% (17/19)\u001b[K\rremote: Counting objects:  94% (18/19)\u001b[K\rremote: Counting objects: 100% (19/19)\u001b[K\rremote: Counting objects: 100% (19/19), done.\u001b[K\n",
            "remote: Compressing objects: 100% (16/16), done.\u001b[K\n",
            "remote: Total 19 (delta 6), reused 16 (delta 3), pack-reused 0 (from 0)\u001b[K\n",
            "Receiving objects: 100% (19/19), 6.55 MiB | 8.09 MiB/s, done.\n",
            "Resolving deltas: 100% (6/6), done.\n"
          ]
        }
      ],
      "source": [
        "!git clone https://github.com/Amahseyn/TwitterSentimentAnalysis.git"
      ]
    },
    {
      "cell_type": "code",
      "source": [
        "from operator import index\n",
        "from sklearn.datasets import fetch_20newsgroups\n",
        "from sklearn.model_selection import train_test_split\n",
        "from sklearn.feature_extraction.text import TfidfVectorizer\n",
        "from sklearn.tree import DecisionTreeClassifier\n",
        "from sklearn.metrics import classification_report, accuracy_score\n",
        "import matplotlib.pyplot as plt\n",
        "import numpy as np\n",
        "import pandas as pd\n",
        "import warnings\n",
        "warnings.filterwarnings(\"ignore\")\n",
        "filepath = \"/content/TwitterSentimentAnalysis/cleaned.csv\"\n",
        "filepath2 = \"/content/TwitterSentimentAnalysis/cleaned_val.csv\"\n",
        "train_df = pd.read_csv(filepath, index_col=False)\n",
        "val_df = pd.read_csv(filepath2, index_col=False)\n",
        "\n",
        "\n"
      ],
      "metadata": {
        "id": "pUxHyL1su6nP"
      },
      "execution_count": 3,
      "outputs": []
    },
    {
      "cell_type": "code",
      "source": [
        "from sklearn.feature_extraction.text import TfidfVectorizer\n",
        "from sklearn.preprocessing import LabelEncoder\n",
        "\n",
        "label_encoder = LabelEncoder()\n",
        "\n",
        "y_train = label_encoder.fit_transform(train_df['Result'])\n",
        "y_val = label_encoder.transform(val_df['Result'])\n",
        "\n",
        "max_features_options = 15000\n",
        "vectorizer = TfidfVectorizer(max_features=max_features_options)\n",
        "X_train = vectorizer.fit_transform(train_df['lemmatized_messages']).toarray()\n",
        "X_val = vectorizer.transform(val_df['lemmatized_messages']).toarray()\n",
        "dt_model = DecisionTreeClassifier()\n",
        "y_pred = dt_model.fit(X_train, y_train).predict(X_val)\n",
        "\n",
        "# Perform cross-validation\n",
        "accuracy = accuracy_score(y_val, y_pred)\n",
        "print(\"Accuracy:\",accuracy,\"max feature:\",max_features_options)"
      ],
      "metadata": {
        "colab": {
          "base_uri": "https://localhost:8080/"
        },
        "id": "hG4MnfQ1WiQI",
        "outputId": "3497882f-428b-4afc-c060-262993472dd9"
      },
      "execution_count": 5,
      "outputs": [
        {
          "output_type": "stream",
          "name": "stdout",
          "text": [
            "Accuracy: 0.93 max feature: 15000\n"
          ]
        }
      ]
    },
    {
      "cell_type": "markdown",
      "source": [],
      "metadata": {
        "id": "g9D-qfXjBEfI"
      }
    }
  ]
}